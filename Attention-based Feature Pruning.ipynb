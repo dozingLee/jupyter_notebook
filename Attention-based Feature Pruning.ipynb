{
 "cells": [
  {
   "cell_type": "markdown",
   "metadata": {},
   "source": [
    "## Attention-based Feature Pruning"
   ]
  },
  {
   "cell_type": "markdown",
   "metadata": {},
   "source": [
    "#### Dataset CIFAR10"
   ]
  },
  {
   "cell_type": "code",
   "execution_count": 7,
   "metadata": {},
   "outputs": [
    {
     "name": "stdout",
     "output_type": "stream",
     "text": [
      "Files already downloaded and verified\n"
     ]
    }
   ],
   "source": [
    "import torch\n",
    "from torchvision import datasets, transforms\n",
    "\n",
    "kwargs = {'num_workers': 1, 'pin_memory': True} if torch.cuda.is_available() else {}\n",
    "test_loader = torch.utils.data.DataLoader(\n",
    "            datasets.CIFAR10('./data.cifar10', train=False, download=True, transform=transforms.Compose([\n",
    "                transforms.ToTensor(),\n",
    "                transforms.Normalize((0.4914, 0.4822, 0.4465), (0.2023, 0.1994, 0.2010))])),\n",
    "            batch_size=256, shuffle=True, **kwargs)"
   ]
  },
  {
   "cell_type": "code",
   "execution_count": 9,
   "metadata": {},
   "outputs": [
    {
     "data": {
      "text/plain": [
       "(torch.Size([256, 3, 32, 32]), torch.Size([256]))"
      ]
     },
     "execution_count": 9,
     "metadata": {},
     "output_type": "execute_result"
    }
   ],
   "source": [
    "idx, data = next(enumerate(test_loader))\n",
    "value, label = data[0].shape, data[1].shape\n",
    "value, label"
   ]
  },
  {
   "cell_type": "code",
   "execution_count": 14,
   "metadata": {},
   "outputs": [
    {
     "data": {
      "text/plain": [
       "torch.Size([1, 3, 32, 32])"
      ]
     },
     "execution_count": 14,
     "metadata": {},
     "output_type": "execute_result"
    }
   ],
   "source": [
    "data1 = data[0][0].clone().unsqueeze(0)\n",
    "data1.shape"
   ]
  },
  {
   "cell_type": "markdown",
   "metadata": {},
   "source": [
    "#### Model VGG19_BN"
   ]
  },
  {
   "cell_type": "code",
   "execution_count": 16,
   "metadata": {
    "scrolled": true
   },
   "outputs": [
    {
     "data": {
      "text/plain": [
       "VGG(\n",
       "  (features): Sequential(\n",
       "    (0): Conv2d(3, 64, kernel_size=(3, 3), stride=(1, 1), padding=(1, 1))\n",
       "    (1): BatchNorm2d(64, eps=1e-05, momentum=0.1, affine=True, track_running_stats=True)\n",
       "    (2): ReLU(inplace=True)\n",
       "    (3): Conv2d(64, 64, kernel_size=(3, 3), stride=(1, 1), padding=(1, 1))\n",
       "    (4): BatchNorm2d(64, eps=1e-05, momentum=0.1, affine=True, track_running_stats=True)\n",
       "    (5): ReLU(inplace=True)\n",
       "    (6): MaxPool2d(kernel_size=2, stride=2, padding=0, dilation=1, ceil_mode=False)\n",
       "    (7): Conv2d(64, 128, kernel_size=(3, 3), stride=(1, 1), padding=(1, 1))\n",
       "    (8): BatchNorm2d(128, eps=1e-05, momentum=0.1, affine=True, track_running_stats=True)\n",
       "    (9): ReLU(inplace=True)\n",
       "    (10): Conv2d(128, 128, kernel_size=(3, 3), stride=(1, 1), padding=(1, 1))\n",
       "    (11): BatchNorm2d(128, eps=1e-05, momentum=0.1, affine=True, track_running_stats=True)\n",
       "    (12): ReLU(inplace=True)\n",
       "    (13): MaxPool2d(kernel_size=2, stride=2, padding=0, dilation=1, ceil_mode=False)\n",
       "    (14): Conv2d(128, 256, kernel_size=(3, 3), stride=(1, 1), padding=(1, 1))\n",
       "    (15): BatchNorm2d(256, eps=1e-05, momentum=0.1, affine=True, track_running_stats=True)\n",
       "    (16): ReLU(inplace=True)\n",
       "    (17): Conv2d(256, 256, kernel_size=(3, 3), stride=(1, 1), padding=(1, 1))\n",
       "    (18): BatchNorm2d(256, eps=1e-05, momentum=0.1, affine=True, track_running_stats=True)\n",
       "    (19): ReLU(inplace=True)\n",
       "    (20): Conv2d(256, 256, kernel_size=(3, 3), stride=(1, 1), padding=(1, 1))\n",
       "    (21): BatchNorm2d(256, eps=1e-05, momentum=0.1, affine=True, track_running_stats=True)\n",
       "    (22): ReLU(inplace=True)\n",
       "    (23): Conv2d(256, 256, kernel_size=(3, 3), stride=(1, 1), padding=(1, 1))\n",
       "    (24): BatchNorm2d(256, eps=1e-05, momentum=0.1, affine=True, track_running_stats=True)\n",
       "    (25): ReLU(inplace=True)\n",
       "    (26): MaxPool2d(kernel_size=2, stride=2, padding=0, dilation=1, ceil_mode=False)\n",
       "    (27): Conv2d(256, 512, kernel_size=(3, 3), stride=(1, 1), padding=(1, 1))\n",
       "    (28): BatchNorm2d(512, eps=1e-05, momentum=0.1, affine=True, track_running_stats=True)\n",
       "    (29): ReLU(inplace=True)\n",
       "    (30): Conv2d(512, 512, kernel_size=(3, 3), stride=(1, 1), padding=(1, 1))\n",
       "    (31): BatchNorm2d(512, eps=1e-05, momentum=0.1, affine=True, track_running_stats=True)\n",
       "    (32): ReLU(inplace=True)\n",
       "    (33): Conv2d(512, 512, kernel_size=(3, 3), stride=(1, 1), padding=(1, 1))\n",
       "    (34): BatchNorm2d(512, eps=1e-05, momentum=0.1, affine=True, track_running_stats=True)\n",
       "    (35): ReLU(inplace=True)\n",
       "    (36): Conv2d(512, 512, kernel_size=(3, 3), stride=(1, 1), padding=(1, 1))\n",
       "    (37): BatchNorm2d(512, eps=1e-05, momentum=0.1, affine=True, track_running_stats=True)\n",
       "    (38): ReLU(inplace=True)\n",
       "    (39): MaxPool2d(kernel_size=2, stride=2, padding=0, dilation=1, ceil_mode=False)\n",
       "    (40): Conv2d(512, 512, kernel_size=(3, 3), stride=(1, 1), padding=(1, 1))\n",
       "    (41): BatchNorm2d(512, eps=1e-05, momentum=0.1, affine=True, track_running_stats=True)\n",
       "    (42): ReLU(inplace=True)\n",
       "    (43): Conv2d(512, 512, kernel_size=(3, 3), stride=(1, 1), padding=(1, 1))\n",
       "    (44): BatchNorm2d(512, eps=1e-05, momentum=0.1, affine=True, track_running_stats=True)\n",
       "    (45): ReLU(inplace=True)\n",
       "    (46): Conv2d(512, 512, kernel_size=(3, 3), stride=(1, 1), padding=(1, 1))\n",
       "    (47): BatchNorm2d(512, eps=1e-05, momentum=0.1, affine=True, track_running_stats=True)\n",
       "    (48): ReLU(inplace=True)\n",
       "    (49): Conv2d(512, 512, kernel_size=(3, 3), stride=(1, 1), padding=(1, 1))\n",
       "    (50): BatchNorm2d(512, eps=1e-05, momentum=0.1, affine=True, track_running_stats=True)\n",
       "    (51): ReLU(inplace=True)\n",
       "    (52): MaxPool2d(kernel_size=2, stride=2, padding=0, dilation=1, ceil_mode=False)\n",
       "  )\n",
       "  (avgpool): AdaptiveAvgPool2d(output_size=(7, 7))\n",
       "  (classifier): Sequential(\n",
       "    (0): Linear(in_features=25088, out_features=4096, bias=True)\n",
       "    (1): ReLU(inplace=True)\n",
       "    (2): Dropout(p=0.5, inplace=False)\n",
       "    (3): Linear(in_features=4096, out_features=4096, bias=True)\n",
       "    (4): ReLU(inplace=True)\n",
       "    (5): Dropout(p=0.5, inplace=False)\n",
       "    (6): Linear(in_features=4096, out_features=1000, bias=True)\n",
       "  )\n",
       ")"
      ]
     },
     "execution_count": 16,
     "metadata": {},
     "output_type": "execute_result"
    }
   ],
   "source": [
    "import torchvision.models as models\n",
    "\n",
    "vgg19 = models.vgg19_bn(pretrained=True)\n",
    "vgg19.eval()\n",
    "vgg19"
   ]
  },
  {
   "cell_type": "markdown",
   "metadata": {},
   "source": [
    "#### Predict Data"
   ]
  },
  {
   "cell_type": "code",
   "execution_count": 70,
   "metadata": {
    "scrolled": true
   },
   "outputs": [
    {
     "data": {
      "text/plain": [
       "(tensor([[[[-8.5106e-08, -7.2914e-08,  7.8384e-10,  ...,  1.6261e-06,\n",
       "             2.7526e-06,  2.5523e-06],\n",
       "           [-1.3694e-07, -1.5476e-07, -2.0210e-07,  ...,  2.7468e-06,\n",
       "             4.3231e-06,  3.9384e-06],\n",
       "           [-3.3755e-07, -4.3320e-07, -5.1764e-07,  ...,  2.9127e-06,\n",
       "             4.3238e-06,  3.9556e-06],\n",
       "           ...,\n",
       "           [-1.5394e-06, -2.5490e-06, -2.5003e-06,  ..., -1.9278e-06,\n",
       "            -1.9479e-06, -1.6941e-06],\n",
       "           [-1.5366e-06, -2.6200e-06, -2.6268e-06,  ..., -1.8583e-06,\n",
       "            -1.9974e-06, -1.7430e-06],\n",
       "           [-1.2952e-06, -2.2182e-06, -2.2789e-06,  ..., -1.3832e-06,\n",
       "            -1.6083e-06, -1.3835e-06]],\n",
       " \n",
       "          [[ 8.8070e-08,  1.5682e-07,  1.6829e-07,  ...,  1.2236e-06,\n",
       "             1.8164e-06,  1.5073e-06],\n",
       "           [-8.1696e-08, -1.6041e-07, -2.2403e-07,  ...,  1.3481e-06,\n",
       "             1.8669e-06,  1.5077e-06],\n",
       "           [-4.0767e-07, -5.6811e-07, -4.2556e-07,  ...,  1.1668e-06,\n",
       "             1.8114e-06,  1.5591e-06],\n",
       "           ...,\n",
       "           [-7.5867e-07, -1.1056e-06, -1.1009e-06,  ..., -7.6572e-07,\n",
       "            -7.8026e-07, -5.9673e-07],\n",
       "           [-7.7240e-07, -1.1324e-06, -1.1667e-06,  ..., -6.6568e-07,\n",
       "            -7.7889e-07, -6.1413e-07],\n",
       "           [-3.8521e-07, -5.1201e-07, -5.3664e-07,  ..., -1.7405e-07,\n",
       "            -2.5374e-07, -1.9104e-07]],\n",
       " \n",
       "          [[ 8.9837e-01,  6.8866e-01,  7.4941e-01,  ...,  6.4296e-01,\n",
       "             1.1419e+00,  1.6193e+00],\n",
       "           [ 7.6556e-01,  4.5383e-01,  3.9320e-01,  ...,  1.7457e+00,\n",
       "             2.0901e+00,  2.3079e+00],\n",
       "           [ 4.5850e-01,  4.8153e-01,  4.5840e-01,  ...,  1.7628e+00,\n",
       "             2.1731e+00,  2.3781e+00],\n",
       "           ...,\n",
       "           [-1.0824e+00, -1.2636e+00, -1.2230e+00,  ..., -1.0435e+00,\n",
       "            -1.0661e+00, -9.4187e-01],\n",
       "           [-8.2777e-01, -9.1631e-01, -9.8212e-01,  ..., -1.1311e+00,\n",
       "            -1.1101e+00, -9.5860e-01],\n",
       "           [-9.7127e-01, -1.3404e+00, -1.4655e+00,  ..., -9.1189e-01,\n",
       "            -1.0619e+00, -9.5995e-01]],\n",
       " \n",
       "          ...,\n",
       " \n",
       "          [[-7.0384e-07, -9.5209e-07, -9.0874e-07,  ..., -1.3645e-06,\n",
       "            -1.7650e-06, -1.1770e-06],\n",
       "           [-1.0874e-06, -1.4586e-06, -1.3409e-06,  ..., -1.9001e-06,\n",
       "            -2.4491e-06, -1.6255e-06],\n",
       "           [-6.9587e-07, -1.0553e-06, -1.2066e-06,  ..., -1.9402e-06,\n",
       "            -2.5267e-06, -1.7145e-06],\n",
       "           ...,\n",
       "           [ 1.3841e-06,  1.8228e-06,  1.8501e-06,  ...,  1.7657e-06,\n",
       "             1.7952e-06,  1.1254e-06],\n",
       "           [ 1.6300e-06,  2.1894e-06,  2.2064e-06,  ...,  1.6827e-06,\n",
       "             1.8105e-06,  1.1513e-06],\n",
       "           [ 1.0899e-06,  1.3817e-06,  1.4222e-06,  ...,  1.0594e-06,\n",
       "             1.1394e-06,  6.8977e-07]],\n",
       " \n",
       "          [[ 4.0783e-07,  3.6144e-07,  3.3896e-07,  ...,  1.0270e-06,\n",
       "             1.0766e-06,  2.8377e-07],\n",
       "           [ 5.3487e-07,  4.7462e-07,  3.7047e-07,  ...,  1.1515e-06,\n",
       "             1.2744e-06,  3.1197e-07],\n",
       "           [ 2.4438e-07,  3.6029e-07,  3.5885e-07,  ...,  1.1864e-06,\n",
       "             1.3583e-06,  3.3273e-07],\n",
       "           ...,\n",
       "           [-8.3426e-07, -8.3437e-07, -8.6361e-07,  ..., -7.7495e-07,\n",
       "            -7.8631e-07, -1.5572e-07],\n",
       "           [-9.8792e-07, -1.0066e-06, -1.0393e-06,  ..., -7.6307e-07,\n",
       "            -7.9830e-07, -1.6095e-07],\n",
       "           [-5.2288e-07, -4.8842e-07, -5.1634e-07,  ..., -3.8972e-07,\n",
       "            -3.8543e-07,  1.6280e-09]],\n",
       " \n",
       "          [[ 3.8261e-05,  4.0369e-05,  4.4077e-05,  ...,  1.2667e-04,\n",
       "             1.7777e-04,  1.2648e-04],\n",
       "           [ 5.3184e-05,  4.7452e-05,  4.1254e-05,  ...,  1.9351e-04,\n",
       "             2.5200e-04,  1.7418e-04],\n",
       "           [ 2.8418e-05,  2.9035e-05,  2.7913e-05,  ...,  1.8993e-04,\n",
       "             2.5125e-04,  1.7818e-04],\n",
       "           ...,\n",
       "           [-1.3924e-04, -1.5750e-04, -1.5946e-04,  ..., -1.3117e-04,\n",
       "            -1.3339e-04, -8.6912e-05],\n",
       "           [-1.4867e-04, -1.7127e-04, -1.7241e-04,  ..., -1.3015e-04,\n",
       "            -1.3629e-04, -8.8920e-05],\n",
       "           [-1.2188e-04, -1.4077e-04, -1.4554e-04,  ..., -9.3732e-05,\n",
       "            -1.0287e-04, -6.7223e-05]]]], grad_fn=<ThnnConv2DBackward>),\n",
       " torch.Size([1, 64, 32, 32]))"
      ]
     },
     "execution_count": 70,
     "metadata": {},
     "output_type": "execute_result"
    }
   ],
   "source": [
    "value1 = vgg19.features[0](data1)\n",
    "value1, value1.shape"
   ]
  },
  {
   "cell_type": "markdown",
   "metadata": {},
   "source": [
    "find nn.ReLU"
   ]
  },
  {
   "cell_type": "code",
   "execution_count": 17,
   "metadata": {},
   "outputs": [
    {
     "name": "stdout",
     "output_type": "stream",
     "text": [
      "2 torch.Size([1, 64, 32, 32])\n",
      "5 torch.Size([1, 64, 32, 32])\n",
      "9 torch.Size([1, 128, 16, 16])\n",
      "12 torch.Size([1, 128, 16, 16])\n",
      "16 torch.Size([1, 256, 8, 8])\n",
      "19 torch.Size([1, 256, 8, 8])\n",
      "22 torch.Size([1, 256, 8, 8])\n",
      "25 torch.Size([1, 256, 8, 8])\n",
      "29 torch.Size([1, 512, 4, 4])\n",
      "32 torch.Size([1, 512, 4, 4])\n",
      "35 torch.Size([1, 512, 4, 4])\n",
      "38 torch.Size([1, 512, 4, 4])\n",
      "42 torch.Size([1, 512, 2, 2])\n",
      "45 torch.Size([1, 512, 2, 2])\n",
      "48 torch.Size([1, 512, 2, 2])\n",
      "51 torch.Size([1, 512, 2, 2])\n"
     ]
    }
   ],
   "source": [
    "import torch.nn as nn\n",
    "\n",
    "for idx, m in enumerate(vgg19.features):\n",
    "    data1 = m(data1)\n",
    "    if isinstance(m, nn.ReLU):\n",
    "        print(idx, data1.shape)"
   ]
  }
 ],
 "metadata": {
  "kernelspec": {
   "display_name": "Python [conda env:python37] *",
   "language": "python",
   "name": "conda-env-python37-py"
  },
  "language_info": {
   "codemirror_mode": {
    "name": "ipython",
    "version": 3
   },
   "file_extension": ".py",
   "mimetype": "text/x-python",
   "name": "python",
   "nbconvert_exporter": "python",
   "pygments_lexer": "ipython3",
   "version": "3.7.9"
  }
 },
 "nbformat": 4,
 "nbformat_minor": 4
}
