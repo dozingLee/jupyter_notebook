{
 "cells": [
  {
   "cell_type": "markdown",
   "id": "d61caff7",
   "metadata": {},
   "source": [
    "### 1. vars() 提供打印变量的所有参数"
   ]
  },
  {
   "cell_type": "code",
   "execution_count": 1,
   "id": "c7037c46",
   "metadata": {
    "scrolled": true
   },
   "outputs": [
    {
     "data": {
      "text/plain": [
       "{'description': 'PyTorch Slimming CIFAR training',\n",
       " 'argument_default': None,\n",
       " 'prefix_chars': '-',\n",
       " 'conflict_handler': 'error',\n",
       " '_registries': {'action': {None: argparse._StoreAction,\n",
       "   'store': argparse._StoreAction,\n",
       "   'store_const': argparse._StoreConstAction,\n",
       "   'store_true': argparse._StoreTrueAction,\n",
       "   'store_false': argparse._StoreFalseAction,\n",
       "   'append': argparse._AppendAction,\n",
       "   'append_const': argparse._AppendConstAction,\n",
       "   'count': argparse._CountAction,\n",
       "   'help': argparse._HelpAction,\n",
       "   'version': argparse._VersionAction,\n",
       "   'parsers': argparse._SubParsersAction},\n",
       "  'type': {None: <function argparse.ArgumentParser.__init__.<locals>.identity(string)>}},\n",
       " '_actions': [_HelpAction(option_strings=['-h', '--help'], dest='help', nargs=0, const=None, default='==SUPPRESS==', type=None, choices=None, help='show this help message and exit', metavar=None),\n",
       "  _StoreAction(option_strings=['--dataset'], dest='dataset', nargs=None, const=None, default='cifar100', type=<class 'str'>, choices=None, help='training dataset (default: cifar100)', metavar=None),\n",
       "  _StoreTrueAction(option_strings=['--sparsity-regularization', '-sr'], dest='sr', nargs=0, const=True, default=False, type=None, choices=None, help='train with channel sparsity regularization', metavar=None),\n",
       "  _StoreAction(option_strings=['--s'], dest='s', nargs=None, const=None, default=0.0001, type=<class 'float'>, choices=None, help='scale sparse rate (default: 0.0001)', metavar=None)],\n",
       " '_option_string_actions': {'-h': _HelpAction(option_strings=['-h', '--help'], dest='help', nargs=0, const=None, default='==SUPPRESS==', type=None, choices=None, help='show this help message and exit', metavar=None),\n",
       "  '--help': _HelpAction(option_strings=['-h', '--help'], dest='help', nargs=0, const=None, default='==SUPPRESS==', type=None, choices=None, help='show this help message and exit', metavar=None),\n",
       "  '--dataset': _StoreAction(option_strings=['--dataset'], dest='dataset', nargs=None, const=None, default='cifar100', type=<class 'str'>, choices=None, help='training dataset (default: cifar100)', metavar=None),\n",
       "  '--sparsity-regularization': _StoreTrueAction(option_strings=['--sparsity-regularization', '-sr'], dest='sr', nargs=0, const=True, default=False, type=None, choices=None, help='train with channel sparsity regularization', metavar=None),\n",
       "  '-sr': _StoreTrueAction(option_strings=['--sparsity-regularization', '-sr'], dest='sr', nargs=0, const=True, default=False, type=None, choices=None, help='train with channel sparsity regularization', metavar=None),\n",
       "  '--s': _StoreAction(option_strings=['--s'], dest='s', nargs=None, const=None, default=0.0001, type=<class 'float'>, choices=None, help='scale sparse rate (default: 0.0001)', metavar=None)},\n",
       " '_action_groups': [<argparse._ArgumentGroup at 0x22c51885f98>,\n",
       "  <argparse._ArgumentGroup at 0x22c51885f28>],\n",
       " '_mutually_exclusive_groups': [],\n",
       " '_defaults': {},\n",
       " '_negative_number_matcher': re.compile(r'^-\\d+$|^-\\d*\\.\\d+$', re.UNICODE),\n",
       " '_has_negative_number_optionals': [],\n",
       " 'prog': 'ipykernel_launcher.py',\n",
       " 'usage': None,\n",
       " 'epilog': None,\n",
       " 'formatter_class': argparse.HelpFormatter,\n",
       " 'fromfile_prefix_chars': None,\n",
       " 'add_help': True,\n",
       " 'allow_abbrev': True,\n",
       " '_positionals': <argparse._ArgumentGroup at 0x22c51885f98>,\n",
       " '_optionals': <argparse._ArgumentGroup at 0x22c51885f28>,\n",
       " '_subparsers': None}"
      ]
     },
     "execution_count": 1,
     "metadata": {},
     "output_type": "execute_result"
    }
   ],
   "source": [
    "import argparse\n",
    "\n",
    "# Training settings\n",
    "parser = argparse.ArgumentParser(description='PyTorch Slimming CIFAR training')\n",
    "parser.add_argument('--dataset', type=str, default='cifar100',\n",
    "                    help='training dataset (default: cifar100)')\n",
    "parser.add_argument('--sparsity-regularization', '-sr', dest='sr', action='store_true',\n",
    "                    help='train with channel sparsity regularization')\n",
    "parser.add_argument('--s', type=float, default=0.0001,\n",
    "                    help='scale sparse rate (default: 0.0001)')\n",
    "\n",
    "vars(parser)"
   ]
  },
  {
   "cell_type": "markdown",
   "id": "6033857b",
   "metadata": {},
   "source": [
    "### 2. argpraser\n",
    "    命令行读入数据类型为float的list\n",
    "\n",
    "#### 2.1 参数读入list，默认为空\n",
    "    default=[], type=float, nargs='*'"
   ]
  },
  {
   "cell_type": "code",
   "execution_count": 39,
   "id": "4ad2c983",
   "metadata": {
    "scrolled": true
   },
   "outputs": [
    {
     "data": {
      "text/plain": [
       "_StoreAction(option_strings=['--pruning-rates'], dest='pruning_rates', nargs='*', const=None, default=[], type=<class 'float'>, choices=None, help='pruning rates list (default: none)', metavar='R')"
      ]
     },
     "execution_count": 39,
     "metadata": {},
     "output_type": "execute_result"
    }
   ],
   "source": [
    "import argparse\n",
    "\n",
    "parser = argparse.ArgumentParser(description='Argparse test')\n",
    "parser.add_argument('--pruning-rates', default=[], type=float, metavar='R', nargs='*',\n",
    "                    help='pruning rates list (default: none)')"
   ]
  },
  {
   "cell_type": "markdown",
   "id": "321f2e6e",
   "metadata": {},
   "source": [
    "nargs的参数\n",
    "- '+' means 1 or more.\n",
    "- '*' means 0 or more.\n",
    "- '?' means 0 or 1."
   ]
  },
  {
   "cell_type": "markdown",
   "id": "2d32958c",
   "metadata": {},
   "source": [
    "#### 2.2 参数入读Ture or False\n",
    "    action='store_true'，命令行增加`-no-y-limit`则对应的值为True\n",
    "    action='store_false'，命令行增加`-no-y-limit`则对应的值为False"
   ]
  },
  {
   "cell_type": "code",
   "execution_count": 40,
   "id": "cd0269f7",
   "metadata": {},
   "outputs": [
    {
     "data": {
      "text/plain": [
       "_StoreTrueAction(option_strings=['-no-y-limit'], dest='no_y_limit', nargs=0, const=True, default=False, type=None, choices=None, help='disables y limit for the global plot (default: False)', metavar=None)"
      ]
     },
     "execution_count": 40,
     "metadata": {},
     "output_type": "execute_result"
    }
   ],
   "source": [
    "parser.add_argument('-no-y-limit', action='store_true', default=False,\n",
    "                    help='disables y limit for the global plot (default: False)')"
   ]
  }
 ],
 "metadata": {
  "kernelspec": {
   "display_name": "Python [conda env:python36] *",
   "language": "python",
   "name": "conda-env-python36-py"
  },
  "language_info": {
   "codemirror_mode": {
    "name": "ipython",
    "version": 3
   },
   "file_extension": ".py",
   "mimetype": "text/x-python",
   "name": "python",
   "nbconvert_exporter": "python",
   "pygments_lexer": "ipython3",
   "version": "3.6.13"
  }
 },
 "nbformat": 4,
 "nbformat_minor": 5
}
