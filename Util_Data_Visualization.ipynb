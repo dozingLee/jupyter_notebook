{
 "cells": [
  {
   "cell_type": "markdown",
   "id": "5baba376",
   "metadata": {},
   "source": [
    "### 1. Loss and Accuary Visualization"
   ]
  },
  {
   "cell_type": "code",
   "execution_count": 11,
   "id": "82f0bc16",
   "metadata": {},
   "outputs": [
    {
     "data": {
      "text/html": [
       "<div>\n",
       "<style scoped>\n",
       "    .dataframe tbody tr th:only-of-type {\n",
       "        vertical-align: middle;\n",
       "    }\n",
       "\n",
       "    .dataframe tbody tr th {\n",
       "        vertical-align: top;\n",
       "    }\n",
       "\n",
       "    .dataframe thead th {\n",
       "        text-align: right;\n",
       "    }\n",
       "</style>\n",
       "<table border=\"1\" class=\"dataframe\">\n",
       "  <thead>\n",
       "    <tr style=\"text-align: right;\">\n",
       "      <th></th>\n",
       "      <th>epoch</th>\n",
       "      <th>loss</th>\n",
       "      <th>prec</th>\n",
       "    </tr>\n",
       "  </thead>\n",
       "  <tbody>\n",
       "    <tr>\n",
       "      <th>0</th>\n",
       "      <td>0</td>\n",
       "      <td>3.9633</td>\n",
       "      <td>0.0732</td>\n",
       "    </tr>\n",
       "    <tr>\n",
       "      <th>1</th>\n",
       "      <td>1</td>\n",
       "      <td>3.6238</td>\n",
       "      <td>0.1221</td>\n",
       "    </tr>\n",
       "    <tr>\n",
       "      <th>2</th>\n",
       "      <td>2</td>\n",
       "      <td>3.4269</td>\n",
       "      <td>0.1520</td>\n",
       "    </tr>\n",
       "    <tr>\n",
       "      <th>3</th>\n",
       "      <td>3</td>\n",
       "      <td>3.3438</td>\n",
       "      <td>0.1846</td>\n",
       "    </tr>\n",
       "    <tr>\n",
       "      <th>4</th>\n",
       "      <td>4</td>\n",
       "      <td>2.8814</td>\n",
       "      <td>0.2605</td>\n",
       "    </tr>\n",
       "    <tr>\n",
       "      <th>...</th>\n",
       "      <td>...</td>\n",
       "      <td>...</td>\n",
       "      <td>...</td>\n",
       "    </tr>\n",
       "    <tr>\n",
       "      <th>155</th>\n",
       "      <td>155</td>\n",
       "      <td>1.6138</td>\n",
       "      <td>0.7150</td>\n",
       "    </tr>\n",
       "    <tr>\n",
       "      <th>156</th>\n",
       "      <td>156</td>\n",
       "      <td>1.6170</td>\n",
       "      <td>0.7108</td>\n",
       "    </tr>\n",
       "    <tr>\n",
       "      <th>157</th>\n",
       "      <td>157</td>\n",
       "      <td>1.6262</td>\n",
       "      <td>0.7116</td>\n",
       "    </tr>\n",
       "    <tr>\n",
       "      <th>158</th>\n",
       "      <td>158</td>\n",
       "      <td>1.6372</td>\n",
       "      <td>0.7138</td>\n",
       "    </tr>\n",
       "    <tr>\n",
       "      <th>159</th>\n",
       "      <td>159</td>\n",
       "      <td>1.6219</td>\n",
       "      <td>0.7139</td>\n",
       "    </tr>\n",
       "  </tbody>\n",
       "</table>\n",
       "<p>160 rows × 3 columns</p>\n",
       "</div>"
      ],
      "text/plain": [
       "     epoch    loss    prec\n",
       "0        0  3.9633  0.0732\n",
       "1        1  3.6238  0.1221\n",
       "2        2  3.4269  0.1520\n",
       "3        3  3.3438  0.1846\n",
       "4        4  2.8814  0.2605\n",
       "..     ...     ...     ...\n",
       "155    155  1.6138  0.7150\n",
       "156    156  1.6170  0.7108\n",
       "157    157  1.6262  0.7116\n",
       "158    158  1.6372  0.7138\n",
       "159    159  1.6219  0.7139\n",
       "\n",
       "[160 rows x 3 columns]"
      ]
     },
     "execution_count": 11,
     "metadata": {},
     "output_type": "execute_result"
    }
   ],
   "source": [
    "import os\n",
    "import pandas as pd\n",
    "\n",
    "filepath = r'G:\\lizulin\\network-slimming\\logs\\sparsity_vgg19_cifar10_s_1e_4'\n",
    "filepath2 = r'G:\\lizulin\\network-slimming\\logs\\fine_tuning_vgg19_cifar100_percent_0.5'\n",
    "filepath3 = r'G:\\lizulin\\network-slimming\\logs\\fine_tuning_vgg19_cifar100_percent_0.5_init'\n",
    "\n",
    "data = pd.read_csv(os.path.join(filepath3, 'record.csv'))\n",
    "\n",
    "data"
   ]
  },
  {
   "cell_type": "code",
   "execution_count": 12,
   "id": "aa14584d",
   "metadata": {
    "scrolled": false
   },
   "outputs": [
    {
     "data": {
      "image/png": "[encoded data removed]",
      "text/plain": [
       "<Figure size 432x288 with 1 Axes>"
      ]
     },
     "metadata": {
      "needs_background": "light"
     },
     "output_type": "display_data"
    }
   ],
   "source": [
    "import matplotlib.pyplot as plt\n",
    "\n",
    "line_loss, = plt.plot(data['loss'], 'r-')\n",
    "line_prec, = plt.plot(data['prec'], 'b-')\n",
    "plt.legend([line_loss, line_prec], ['loss', 'accuracy'], loc='upper right')\n",
    "plt.ylabel('value', fontsize=12)\n",
    "plt.xlabel('epoch', fontsize=12)\n",
    "plt.title('Train loss and accuracy (best_prec: {:.4f})'.format(max(data['prec'])), fontsize=14)\n",
    "plt.savefig(os.path.join(filepath3, \"record train loss.png\"))\n",
    "plt.show()"
   ]
  },
  {
   "cell_type": "markdown",
   "id": "6cd0a39b",
   "metadata": {},
   "source": [
    "### 2. VGG Weight Visualization "
   ]
  },
  {
   "cell_type": "markdown",
   "id": "0351c943",
   "metadata": {},
   "source": [
    "#### 2.1 pruned model file "
   ]
  },
  {
   "cell_type": "code",
   "execution_count": 20,
   "id": "d94bdc38",
   "metadata": {},
   "outputs": [
    {
     "data": {
      "text/plain": [
       "dict_keys(['cfg', 'state_dict'])"
      ]
     },
     "execution_count": 20,
     "metadata": {},
     "output_type": "execute_result"
    }
   ],
   "source": [
    "import torch\n",
    "\n",
    "filepath = r'G:\\lizulin\\network-slimming\\logs\\prune_vgg19_cifar100_percent_0.5\\pruned.pth.tar'\n",
    "\n",
    "pruned_model = torch.load(filepath)\n",
    "pruned_model.keys()"
   ]
  },
  {
   "cell_type": "code",
   "execution_count": 29,
   "id": "bda1dcb8",
   "metadata": {
    "scrolled": false
   },
   "outputs": [
    {
     "data": {
      "text/plain": [
       "\"[40, 64, 'M', 128, 128, 'M', 254, 255, 256, 251, 'M', 436, 288, 86, 36, 'M', 41, 45, 59, 384]\""
      ]
     },
     "execution_count": 29,
     "metadata": {},
     "output_type": "execute_result"
    }
   ],
   "source": [
    "pruned_dict = pruned_model['state_dict']\n",
    "pruned_cfg = pruned_model['cfg']\n",
    "str(pruned_model['cfg'])"
   ]
  },
  {
   "cell_type": "markdown",
   "id": "4f4817f8",
   "metadata": {},
   "source": [
    "#### 2.2 vgg model "
   ]
  },
  {
   "cell_type": "code",
   "execution_count": 23,
   "id": "ea1a641e",
   "metadata": {},
   "outputs": [],
   "source": [
    "import math\n",
    "import torch\n",
    "import torch.nn as nn\n",
    "from torch.autograd import Variable\n",
    "\n",
    "__all__ = ['vgg']\n",
    "\n",
    "defaultcfg = {\n",
    "    11: [64, 'M', 128, 'M', 256, 256, 'M', 512, 512, 'M', 512, 512],\n",
    "    13: [64, 64, 'M', 128, 128, 'M', 256, 256, 'M', 512, 512, 'M', 512, 512],\n",
    "    16: [64, 64, 'M', 128, 128, 'M', 256, 256, 256, 'M', 512, 512, 512, 'M', 512, 512, 512],\n",
    "    19: [64, 64, 'M', 128, 128, 'M', 256, 256, 256, 256, 'M', 512, 512, 512, 512, 'M', 512, 512, 512, 512],\n",
    "}\n",
    "\n",
    "\n",
    "class vgg(nn.Module):\n",
    "    def __init__(self, dataset='cifar10', depth=19, init_weights=True, cfg=None, batch_norm=True):\n",
    "        super(vgg, self).__init__()\n",
    "        if cfg is None:\n",
    "            cfg = defaultcfg[depth]\n",
    "\n",
    "        self.feature = self.make_layers(cfg, batch_norm)\n",
    "\n",
    "        if dataset == 'cifar10':\n",
    "            num_classes = 10\n",
    "        elif dataset == 'cifar100':\n",
    "            num_classes = 100\n",
    "        self.classifier = nn.Linear(cfg[-1], num_classes)\n",
    "        if init_weights:\n",
    "            self._initialize_weights()\n",
    "\n",
    "    def make_layers(self, cfg, batch_norm=False):\n",
    "        layers = []\n",
    "        in_channels = 3\n",
    "        for v in cfg:\n",
    "            if v == 'M':\n",
    "                layers += [nn.MaxPool2d(kernel_size=2, stride=2)]\n",
    "            else:\n",
    "                conv2d = nn.Conv2d(in_channels, v, kernel_size=3, padding=1, bias=False)\n",
    "                if batch_norm:\n",
    "                    layers += [conv2d, nn.BatchNorm2d(v), nn.ReLU(inplace=True)]\n",
    "                else:\n",
    "                    layers += [conv2d, nn.ReLU(inplace=True)]\n",
    "                in_channels = v\n",
    "        return nn.Sequential(*layers)\n",
    "\n",
    "    def forward(self, x):\n",
    "        x = self.feature(x)\n",
    "        x = nn.AvgPool2d(2)(x)\n",
    "        x = x.view(x.size(0), -1)\n",
    "        y = self.classifier(x)\n",
    "        return y4\n",
    "\n",
    "    def _initialize_weights(self):\n",
    "        for m in self.modules():\n",
    "            if isinstance(m, nn.Conv2d):\n",
    "                n = m.kernel_size[0] * m.kernel_size[1] * m.out_channels\n",
    "                m.weight.data.normal_(0, math.sqrt(2. / n))  # mean, std\n",
    "                if m.bias is not None:\n",
    "                    m.bias.data.zero_()\n",
    "            elif isinstance(m, nn.BatchNorm2d):\n",
    "                m.weight.data.fill_(0.5)\n",
    "                m.bias.data.zero_()\n",
    "            elif isinstance(m, nn.Linear):\n",
    "                m.weight.data.normal_(0, 0.01)\n",
    "                m.bias.data.zero_()"
   ]
  },
  {
   "cell_type": "markdown",
   "id": "85a1f9e1",
   "metadata": {},
   "source": [
    "#### 2.3 pruned model load parameters "
   ]
  },
  {
   "cell_type": "code",
   "execution_count": 31,
   "id": "472a946a",
   "metadata": {},
   "outputs": [
    {
     "data": {
      "text/plain": [
       "<All keys matched successfully>"
      ]
     },
     "execution_count": 31,
     "metadata": {},
     "output_type": "execute_result"
    }
   ],
   "source": [
    "model = vgg(dataset='cifar100', depth=19, cfg=pruned_cfg)\n",
    "model.load_state_dict(pruned_dict)"
   ]
  },
  {
   "cell_type": "markdown",
   "id": "d1f86346",
   "metadata": {},
   "source": [
    "#### 2.4 add cfg to model"
   ]
  },
  {
   "cell_type": "code",
   "execution_count": 27,
   "id": "412191cc",
   "metadata": {},
   "outputs": [
    {
     "data": {
      "text/plain": [
       "dict_keys(['epoch', 'state_dict', 'best_prec1', 'optimizer'])"
      ]
     },
     "execution_count": 27,
     "metadata": {},
     "output_type": "execute_result"
    }
   ],
   "source": [
    "import torch\n",
    "import os\n",
    "\n",
    "filepath = r'G:\\lizulin\\network-slimming\\logs\\sparsity_vgg19_cifar10_s_1e_4'\n",
    "filepath2 = r'G:\\lizulin\\network-slimming\\logs\\fine_tuning_vgg19_cifar100_percent_0.5'\n",
    "filepath3 = r'G:\\lizulin\\network-slimming\\logs\\fine_tuning_vgg19_cifar100_percent_0.5_init'\n",
    "filepath4 = r'G:\\lizulin\\network-slimming\\logs\\fine_tuning_vgg19_cifar100_feature_percent_0.5'\n",
    "\n",
    "path = filepath4\n",
    "file = os.path.join(path, 'model_best.pth.tar')\n",
    "\n",
    "model_best = torch.load(file)\n",
    "model_best.keys()"
   ]
  },
  {
   "cell_type": "code",
   "execution_count": 28,
   "id": "d060c3d9",
   "metadata": {},
   "outputs": [
    {
     "data": {
      "text/plain": [
       "dict_keys(['epoch', 'state_dict', 'best_prec1', 'optimizer', 'cfg'])"
      ]
     },
     "execution_count": 28,
     "metadata": {},
     "output_type": "execute_result"
    }
   ],
   "source": [
    "cfg = [47, 64, 'M', 128, 128, 'M', 254, 254, 249, 251, 'M', 233, 244, 169, 173, 'M', 123, 124, 125, 185]\n",
    "model_best['cfg'] = cfg\n",
    "model_best.keys()"
   ]
  },
  {
   "cell_type": "code",
   "execution_count": 29,
   "id": "3ddb7ac2",
   "metadata": {},
   "outputs": [],
   "source": [
    "torch.save(model_best, file)"
   ]
  }
 ],
 "metadata": {
  "kernelspec": {
   "display_name": "Python [conda env:python36] *",
   "language": "python",
   "name": "conda-env-python36-py"
  },
  "language_info": {
   "codemirror_mode": {
    "name": "ipython",
    "version": 3
   },
   "file_extension": ".py",
   "mimetype": "text/x-python",
   "name": "python",
   "nbconvert_exporter": "python",
   "pygments_lexer": "ipython3",
   "version": "3.6.13"
  }
 },
 "nbformat": 4,
 "nbformat_minor": 5
}
