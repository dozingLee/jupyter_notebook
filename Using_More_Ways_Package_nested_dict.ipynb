{
 "cells": [
  {
   "cell_type": "markdown",
   "id": "022bb84d",
   "metadata": {},
   "source": [
    "#### 逐层访问词典，直到最后一层"
   ]
  },
  {
   "cell_type": "code",
   "execution_count": 6,
   "id": "fea930ce",
   "metadata": {},
   "outputs": [
    {
     "name": "stdout",
     "output_type": "stream",
     "text": [
      "(('hi', 'you', 'dd'), 3)\n",
      "(('hi', 'me', 'aa'), 1)\n",
      "(('h', 'yo', 'd'), 2)\n"
     ]
    }
   ],
   "source": [
    "from nested_dict import nested_dict\n",
    "\n",
    "a = { \"hi\":\n",
    "         {\n",
    "            \"you\":{\"dd\": 3}, \n",
    "            \"me\": {\"aa\": 1}\n",
    "         }, \n",
    "     \"h\":{\n",
    "            \"yo\":{\"d\": 2}\n",
    "         }\n",
    "    }\n",
    "\n",
    "for i in nested_dict(a).items_flat():\n",
    "    print(i)"
   ]
  },
  {
   "cell_type": "markdown",
   "id": "b7c709af",
   "metadata": {},
   "source": [
    "#### join连接 "
   ]
  },
  {
   "cell_type": "code",
   "execution_count": 7,
   "id": "a1829df6",
   "metadata": {},
   "outputs": [
    {
     "data": {
      "text/plain": [
       "{'hi.you.dd': 3, 'hi.me.aa': 1, 'h.yo.d': 2}"
      ]
     },
     "execution_count": 7,
     "metadata": {},
     "output_type": "execute_result"
    }
   ],
   "source": [
    "b = {'.'.join(k): v for k, v in nested_dict(a).items_flat()}\n",
    "b"
   ]
  }
 ],
 "metadata": {
  "kernelspec": {
   "display_name": "Python [conda env:python36] *",
   "language": "python",
   "name": "conda-env-python36-py"
  },
  "language_info": {
   "codemirror_mode": {
    "name": "ipython",
    "version": 3
   },
   "file_extension": ".py",
   "mimetype": "text/x-python",
   "name": "python",
   "nbconvert_exporter": "python",
   "pygments_lexer": "ipython3",
   "version": "3.6.13"
  }
 },
 "nbformat": 4,
 "nbformat_minor": 5
}
