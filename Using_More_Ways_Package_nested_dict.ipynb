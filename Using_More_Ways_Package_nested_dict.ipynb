{
 "cells": [
  {
   "cell_type": "markdown",
   "id": "022bb84d",
   "metadata": {},
   "source": [
    "#### 1.1 逐层访问词典，直到最后一层"
   ]
  },
  {
   "cell_type": "code",
   "execution_count": 22,
   "id": "fea930ce",
   "metadata": {},
   "outputs": [
    {
     "name": "stdout",
     "output_type": "stream",
     "text": [
      "(('hi', 'you', 'dd'), tensor(3.))\n",
      "(('hi', 'me', 'aa'), tensor(2.))\n",
      "(('h', 'yo', 'd'), tensor(1.))\n"
     ]
    }
   ],
   "source": [
    "import torch\n",
    "from nested_dict import nested_dict\n",
    "\n",
    "a = { \"hi\":\n",
    "         {\n",
    "            \"you\":{\"dd\": torch.tensor(3.)}, \n",
    "            \"me\": {\"aa\": torch.tensor(2.)}\n",
    "         }, \n",
    "     \"h\":{\n",
    "            \"yo\":{\"d\": torch.tensor(1.)}\n",
    "         }\n",
    "    }\n",
    "\n",
    "for i in nested_dict(a).items_flat():\n",
    "    print(i)"
   ]
  },
  {
   "cell_type": "markdown",
   "id": "b7c709af",
   "metadata": {},
   "source": [
    "#### 1.2 join连接 "
   ]
  },
  {
   "cell_type": "code",
   "execution_count": 28,
   "id": "a1829df6",
   "metadata": {},
   "outputs": [
    {
     "data": {
      "text/plain": [
       "{'hi.you.dd': tensor(3.), 'hi.me.aa': tensor(2.), 'h.yo.d': tensor(1.)}"
      ]
     },
     "execution_count": 28,
     "metadata": {},
     "output_type": "execute_result"
    }
   ],
   "source": [
    "b = {'.'.join(k): v for k, v in nested_dict(a).items_flat()}\n",
    "b"
   ]
  },
  {
   "cell_type": "markdown",
   "id": "e90dae40",
   "metadata": {},
   "source": [
    "#### 1.3 递归访问字典的数据并传入cuda中"
   ]
  },
  {
   "cell_type": "code",
   "execution_count": 29,
   "id": "d6f77b81",
   "metadata": {},
   "outputs": [],
   "source": [
    "def cast(params, dtype='float'):\n",
    "    if isinstance(params, dict):\n",
    "        data = {k: cast(v, dtype) for k, v in params.items()}\n",
    "        print('data: {}'.format(data))\n",
    "        return data\n",
    "    else:\n",
    "        print(params.dtype)\n",
    "        return getattr(params.cuda() if torch.cuda.is_available() else params, dtype)()"
   ]
  },
  {
   "cell_type": "code",
   "execution_count": 30,
   "id": "7ab7940a",
   "metadata": {},
   "outputs": [
    {
     "name": "stdout",
     "output_type": "stream",
     "text": [
      "torch.float32\n",
      "torch.float32\n",
      "torch.float32\n",
      "data: {'hi.you.dd': tensor(3., device='cuda:0'), 'hi.me.aa': tensor(2., device='cuda:0'), 'h.yo.d': tensor(1., device='cuda:0')}\n"
     ]
    },
    {
     "data": {
      "text/plain": [
       "{'hi.you.dd': tensor(3., device='cuda:0'),\n",
       " 'hi.me.aa': tensor(2., device='cuda:0'),\n",
       " 'h.yo.d': tensor(1., device='cuda:0')}"
      ]
     },
     "execution_count": 30,
     "metadata": {},
     "output_type": "execute_result"
    }
   ],
   "source": [
    "cast(b)"
   ]
  }
 ],
 "metadata": {
  "kernelspec": {
   "display_name": "Python [conda env:python36] *",
   "language": "python",
   "name": "conda-env-python36-py"
  },
  "language_info": {
   "codemirror_mode": {
    "name": "ipython",
    "version": 3
   },
   "file_extension": ".py",
   "mimetype": "text/x-python",
   "name": "python",
   "nbconvert_exporter": "python",
   "pygments_lexer": "ipython3",
   "version": "3.6.13"
  }
 },
 "nbformat": 4,
 "nbformat_minor": 5
}
