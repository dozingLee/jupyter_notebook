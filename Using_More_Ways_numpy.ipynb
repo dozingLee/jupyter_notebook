{
 "cells": [
  {
   "cell_type": "markdown",
   "id": "2e896349",
   "metadata": {},
   "source": [
    "### 1. (numpy) list 转成 array 实现减法\n",
    "两个list不能直接做减法，需要转成array，计算后，再转回list"
   ]
  },
  {
   "cell_type": "code",
   "execution_count": 1,
   "id": "27432e8f",
   "metadata": {
    "scrolled": true
   },
   "outputs": [
    {
     "data": {
      "text/plain": [
       "[' 64- 35= 29',\n",
       " ' 64- 64=  0',\n",
       " '128-128=  0',\n",
       " '128-128=  0',\n",
       " '256-255=  1',\n",
       " '256-251=  5',\n",
       " '256-222= 34',\n",
       " '256-180= 76',\n",
       " '512-113=399',\n",
       " '512- 46=466',\n",
       " '512- 44=468',\n",
       " '512- 34=478',\n",
       " '512- 17=495',\n",
       " '512- 21=491',\n",
       " '512- 33=479',\n",
       " '512- 80=432']"
      ]
     },
     "execution_count": 1,
     "metadata": {},
     "output_type": "execute_result"
    }
   ],
   "source": [
    "import numpy as np\n",
    "\n",
    "channel_origin = [64, 64, 128, 128, 256, 256, 256, 256, 512, 512, 512, 512, 512, 512, 512, 512]  # vgg19 model\n",
    "channel_prune = [35, 64, 128, 128, 255, 251, 222, 180, 113, 46, 44, 34, 17, 21, 33, 80]  # prune.txt\n",
    "\n",
    "channel_variation = np.array(channel_origin) - np.array(channel_prune)\n",
    "channel_variation = list(channel_variation)\n",
    "\n",
    "labels = [\"{:>3d}-{:>3d}={:>3d}\".format(origin_item, channel_prune[i], channel_variation[i])\n",
    "          for i, origin_item in enumerate(channel_origin)]\n",
    "labels"
   ]
  },
  {
   "cell_type": "markdown",
   "id": "23cab9c8",
   "metadata": {},
   "source": [
    "### 2. np.reshape() 与 np.resize() 是不同的\n",
    "\n",
    "- reshape 只能改变形状，不能改变原始输入包含的元素个数。\n",
    "- resize 可以改变尺寸，只是进行简单的裁剪和填充。如果要更加精确的使用插值，则该函数不能实现。"
   ]
  },
  {
   "cell_type": "code",
   "execution_count": 2,
   "id": "dde7fc18",
   "metadata": {},
   "outputs": [
    {
     "data": {
      "text/plain": [
       "(array([ 0.57080242,  0.56944377,  1.78976569, -0.84940764]), (4,), 4)"
      ]
     },
     "execution_count": 2,
     "metadata": {},
     "output_type": "execute_result"
    }
   ],
   "source": [
    "import numpy as np\n",
    "\n",
    "x = np.random.randn(4)\n",
    "x, x.shape, x.size"
   ]
  },
  {
   "cell_type": "markdown",
   "id": "3a9b02f9",
   "metadata": {},
   "source": [
    "#### 2.1 reshape"
   ]
  },
  {
   "cell_type": "code",
   "execution_count": 8,
   "id": "60672271",
   "metadata": {
    "scrolled": true
   },
   "outputs": [
    {
     "data": {
      "text/plain": [
       "(array([[ 0.57080242],\n",
       "        [ 0.56944377],\n",
       "        [ 1.78976569],\n",
       "        [-0.84940764]]),\n",
       " (4, 1),\n",
       " 4)"
      ]
     },
     "execution_count": 8,
     "metadata": {},
     "output_type": "execute_result"
    }
   ],
   "source": [
    "y = x.reshape(4, 1)\n",
    "y, y.shape, y.size"
   ]
  },
  {
   "cell_type": "markdown",
   "id": "9d86b646",
   "metadata": {},
   "source": [
    "#### 2.2 resize"
   ]
  },
  {
   "cell_type": "code",
   "execution_count": 9,
   "id": "fa8c9c5c",
   "metadata": {
    "scrolled": true
   },
   "outputs": [
    {
     "data": {
      "text/plain": [
       "(array([[ 0.57080242,  0.56944377],\n",
       "        [ 1.78976569, -0.84940764],\n",
       "        [ 0.57080242,  0.56944377],\n",
       "        [ 1.78976569, -0.84940764]]),\n",
       " (4, 2),\n",
       " 8)"
      ]
     },
     "execution_count": 9,
     "metadata": {},
     "output_type": "execute_result"
    }
   ],
   "source": [
    "z = np.resize(x, (4, 2))\n",
    "z, z.shape, z.size"
   ]
  },
  {
   "cell_type": "markdown",
   "id": "aed066f9",
   "metadata": {},
   "source": [
    "#### 2.3 `size` 与 `shape` 是不一样的"
   ]
  },
  {
   "cell_type": "code",
   "execution_count": 11,
   "id": "79a87446",
   "metadata": {
    "scrolled": true
   },
   "outputs": [
    {
     "data": {
      "text/plain": [
       "(array([0.57080242]), (1,), 1)"
      ]
     },
     "execution_count": 11,
     "metadata": {},
     "output_type": "execute_result"
    }
   ],
   "source": [
    "o = np.resize(z, (1,))\n",
    "o, o.shape, o.size"
   ]
  },
  {
   "cell_type": "code",
   "execution_count": 12,
   "id": "3807dad7",
   "metadata": {
    "scrolled": true
   },
   "outputs": [
    {
     "data": {
      "text/plain": [
       "(array([[0.42603275]]),\n",
       " (1, 1),\n",
       " array(0.42603275),\n",
       " (),\n",
       " array([0.42603275]),\n",
       " (1,))"
      ]
     },
     "execution_count": 12,
     "metadata": {},
     "output_type": "execute_result"
    }
   ],
   "source": [
    "m = np.random.randn(1, 1)\n",
    "o = np.squeeze(m)\n",
    "n = np.resize(o, (1,))\n",
    "m, m.shape, o, o.shape, n, n.shape"
   ]
  },
  {
   "cell_type": "markdown",
   "id": "8de2a304",
   "metadata": {},
   "source": [
    "### 3. np.argwhere(x > 0)  返回x中大于0的数组元组的索引"
   ]
  },
  {
   "cell_type": "code",
   "execution_count": 4,
   "id": "f6f81dee",
   "metadata": {
    "scrolled": true
   },
   "outputs": [
    {
     "data": {
      "text/plain": [
       "(array([[0],\n",
       "        [1],\n",
       "        [2]], dtype=int64),\n",
       " (3, 1))"
      ]
     },
     "execution_count": 4,
     "metadata": {},
     "output_type": "execute_result"
    }
   ],
   "source": [
    "import torch\n",
    "import numpy as np\n",
    "\n",
    "x = [1, 2, 3, -1, -2]\n",
    "x = torch.tensor(x)\n",
    "y = np.argwhere(x.data.cpu().numpy() > 0)\n",
    "y, y.shape"
   ]
  },
  {
   "cell_type": "code",
   "execution_count": 5,
   "id": "d7ef050c",
   "metadata": {},
   "outputs": [
    {
     "data": {
      "text/plain": [
       "(array([0, 1, 2], dtype=int64), (3,))"
      ]
     },
     "execution_count": 5,
     "metadata": {},
     "output_type": "execute_result"
    }
   ],
   "source": [
    "z = np.squeeze(y)\n",
    "z, z.shape"
   ]
  },
  {
   "cell_type": "markdown",
   "id": "ecd4032a",
   "metadata": {},
   "source": [
    "### 4. numpy的排序 \n",
    "    `np.sort()`返回从小到大排序后的序列\n",
    "    `np.argsort()`返回从小到大排序后的索引序列位置"
   ]
  },
  {
   "cell_type": "code",
   "execution_count": 21,
   "id": "84f91d86",
   "metadata": {},
   "outputs": [
    {
     "data": {
      "text/plain": [
       "(array([1, 2, 3, 4, 5, 6]), array([0, 3, 1, 4, 2, 5], dtype=int64))"
      ]
     },
     "execution_count": 21,
     "metadata": {},
     "output_type": "execute_result"
    }
   ],
   "source": [
    "import numpy as np\n",
    "\n",
    "arr = [1, 3, 5, 2, 4, 6]\n",
    "y = np.sort(arr)   # data\n",
    "i = np.argsort(arr)  # index\n",
    "y, i"
   ]
  },
  {
   "cell_type": "markdown",
   "id": "85739f30",
   "metadata": {},
   "source": [
    "#### 4.1 numpy的比较 "
   ]
  },
  {
   "cell_type": "code",
   "execution_count": 26,
   "id": "e44e19fb",
   "metadata": {
    "scrolled": true
   },
   "outputs": [
    {
     "data": {
      "text/plain": [
       "(array([False, False, False, False,  True,  True]),\n",
       " array([0, 0, 0, 0, 1, 1]),\n",
       " array([0., 0., 0., 0., 1., 1.]))"
      ]
     },
     "execution_count": 26,
     "metadata": {},
     "output_type": "execute_result"
    }
   ],
   "source": [
    "mask = y > 4\n",
    "\n",
    "mask, mask.astype(np.int), mask.astype(np.float)"
   ]
  },
  {
   "cell_type": "markdown",
   "id": "28fcb2ad",
   "metadata": {},
   "source": [
    "#### 4.2 numpy的求和 "
   ]
  },
  {
   "cell_type": "code",
   "execution_count": 28,
   "id": "b0af67ba",
   "metadata": {},
   "outputs": [
    {
     "data": {
      "text/plain": [
       "(2, 2)"
      ]
     },
     "execution_count": 28,
     "metadata": {},
     "output_type": "execute_result"
    }
   ],
   "source": [
    "np.sum(mask), np.sum( mask.astype(np.int))"
   ]
  },
  {
   "cell_type": "markdown",
   "id": "eac8f031",
   "metadata": {},
   "source": [
    "### 5. 字符串空格占位\n",
    "    ljust(width, [fillchar]) 输出width个字符，S左对齐，不足部分用fillchar填充，默认的为空格。 \n",
    "    rjust(width, [fillchar])\n",
    "    center(width, [fillchar])\n",
    "    zfill(width) 把S变成width长，并在右对齐，不足部分用0补足。"
   ]
  },
  {
   "cell_type": "code",
   "execution_count": 1,
   "id": "5f64a976",
   "metadata": {},
   "outputs": [
    {
     "data": {
      "text/plain": [
       "('How it is worked?                                 ',\n",
       " '                                 How it is worked?',\n",
       " '                How it is worked?                 ',\n",
       " '000000000000000000000000000000000How it is worked?')"
      ]
     },
     "execution_count": 1,
     "metadata": {},
     "output_type": "execute_result"
    }
   ],
   "source": [
    "string = 'How it is worked?'\n",
    "lstr = string.ljust(50)\n",
    "rstr = string.rjust(50)\n",
    "cstr = string.center(50)\n",
    "zstr = string.zfill(50)\n",
    "\n",
    "lstr, rstr, cstr, zstr"
   ]
  },
  {
   "cell_type": "code",
   "execution_count": 4,
   "id": "739423e5",
   "metadata": {},
   "outputs": [
    {
     "data": {
      "text/plain": [
       "(<torchnet.meter.averagevaluemeter.AverageValueMeter at 0x2481453c5f8>,\n",
       " [<torchnet.meter.averagevaluemeter.AverageValueMeter at 0x2481453c630>,\n",
       "  <torchnet.meter.averagevaluemeter.AverageValueMeter at 0x2481453c6a0>,\n",
       "  <torchnet.meter.averagevaluemeter.AverageValueMeter at 0x2481453c6d8>])"
      ]
     },
     "execution_count": 4,
     "metadata": {},
     "output_type": "execute_result"
    }
   ],
   "source": [
    "import torchnet as tnt\n",
    "\n",
    "meter_loss = tnt.meter.AverageValueMeter()\n",
    "meters_at = [tnt.meter.AverageValueMeter() for i in range(3)]\n",
    "meter_loss, meters_at"
   ]
  },
  {
   "cell_type": "code",
   "execution_count": 6,
   "id": "bc725962",
   "metadata": {
    "scrolled": false
   },
   "outputs": [
    {
     "data": {
      "text/plain": [
       "{'n': 0,\n",
       " 'sum': 0.0,\n",
       " 'var': 0.0,\n",
       " 'val': 0,\n",
       " 'mean': nan,\n",
       " 'mean_old': 0.0,\n",
       " 'm_s': 0.0,\n",
       " 'std': nan}"
      ]
     },
     "execution_count": 6,
     "metadata": {},
     "output_type": "execute_result"
    }
   ],
   "source": [
    "vars(meter_loss)"
   ]
  },
  {
   "cell_type": "markdown",
   "id": "beeeae07",
   "metadata": {},
   "source": [
    "### 6. 数字转字节单位的字符串 "
   ]
  },
  {
   "cell_type": "code",
   "execution_count": 6,
   "id": "9e3f1e78",
   "metadata": {},
   "outputs": [
    {
     "data": {
      "text/plain": [
       "'19.1M'"
      ]
     },
     "execution_count": 6,
     "metadata": {},
     "output_type": "execute_result"
    }
   ],
   "source": [
    "def bytes_to_human(n):\n",
    "    symbols = ('K', 'M', 'G', 'T', 'P', 'E', 'Z', 'Y')\n",
    "    prefix = {}\n",
    "    for i, s in enumerate(symbols):\n",
    "        prefix[s] = 1 << (i + 1) * 10\n",
    "    for s in reversed(symbols):\n",
    "        if n >= prefix[s]:\n",
    "            value = float(n) / prefix[s]\n",
    "            return '%.1f%s' % (value, s)\n",
    "    return '%sB' % n\n",
    "\n",
    "bytes_to_human(20000048)"
   ]
  },
  {
   "cell_type": "code",
   "execution_count": 3,
   "id": "9b765711",
   "metadata": {},
   "outputs": [
    {
     "data": {
      "text/plain": [
       "\"[38/ 64/ 'M'/ 127/ 128/ 'M'/ 254/ 253/ 220/ 182/ 'M'/ 117/ 41/ 40/ 34/ 'M'/ 18/ 21/ 33/ 81]\""
      ]
     },
     "execution_count": 3,
     "metadata": {},
     "output_type": "execute_result"
    }
   ],
   "source": [
    "data_list = [38, 64, 'M', 127, 128, 'M', 254, 253, 220, 182, 'M', 117, 41, 40, 34, 'M', 18, 21, 33, 81]\n",
    "\n",
    "string = '{}'.format(data_list).replace(',', '/')\n",
    "string"
   ]
  },
  {
   "cell_type": "markdown",
   "id": "7f491f9a",
   "metadata": {},
   "source": [
    "### 7. load_model() "
   ]
  },
  {
   "cell_type": "code",
   "execution_count": 5,
   "id": "18dc361e",
   "metadata": {},
   "outputs": [
    {
     "data": {
      "text/plain": [
       "dict_keys(['epoch', 'state_dict', 'best_prec1', 'optimizer'])"
      ]
     },
     "execution_count": 5,
     "metadata": {},
     "output_type": "execute_result"
    }
   ],
   "source": [
    "import torch\n",
    "\n",
    "filepath = r'G:\\lizulin\\network-slimming\\logs\\sparsity_resnet164_cifar10_s_1e_4\\model_best.pth.tar'\n",
    "\n",
    "pruned_model = torch.load(filepath)\n",
    "pruned_model.keys()"
   ]
  },
  {
   "cell_type": "code",
   "execution_count": 7,
   "id": "fc25b8e7",
   "metadata": {},
   "outputs": [
    {
     "data": {
      "text/plain": [
       "'[23/ 234/ 23/ 1/ 98]'"
      ]
     },
     "execution_count": 7,
     "metadata": {},
     "output_type": "execute_result"
    }
   ],
   "source": [
    "data_list = [23, 234, 23, 1, 98]\n",
    "str(data_list).replace(',', '/')"
   ]
  }
 ],
 "metadata": {
  "kernelspec": {
   "display_name": "Python [conda env:python36] *",
   "language": "python",
   "name": "conda-env-python36-py"
  },
  "language_info": {
   "codemirror_mode": {
    "name": "ipython",
    "version": 3
   },
   "file_extension": ".py",
   "mimetype": "text/x-python",
   "name": "python",
   "nbconvert_exporter": "python",
   "pygments_lexer": "ipython3",
   "version": "3.6.13"
  }
 },
 "nbformat": 4,
 "nbformat_minor": 5
}
